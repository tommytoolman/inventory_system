{
 "cells": [
  {
   "cell_type": "code",
   "execution_count": 2,
   "id": "fb49e0db-7175-406f-80f3-af6f913b3aa3",
   "metadata": {},
   "outputs": [],
   "source": [
    "import pandas as pd"
   ]
  },
  {
   "cell_type": "code",
   "execution_count": 3,
   "id": "c1ef0cbb-3f07-43ae-bd62-8a15bd1ec80d",
   "metadata": {},
   "outputs": [],
   "source": [
    "inv_file = \"vintageandrare_inventory_2025-01-21_09-28.csv\"\n",
    "\n",
    "upload_file = \"empty_bulk_upload_2025-01-21_09-25.csv\"\n",
    "upload_df = pd.read_csv(upload_file)\n",
    "# upload_df.keys()"
   ]
  },
  {
   "cell_type": "code",
   "execution_count": null,
   "id": "f9ab2c40-b640-431d-98f9-4277ea9a701f",
   "metadata": {},
   "outputs": [],
   "source": [
    "https://www.vintageandrare.com/instruments/add_edit_item\n",
    "\n",
    "https://www.vintageandrare.com/instruments/show\n",
    "\n",
    "https://www.vintageandrare.com/instruments/show/search/Musicground/100\n",
    "\n",
    "https://www.vintageandrare.com/instruments/bulk_upload"
   ]
  },
  {
   "cell_type": "markdown",
   "id": "ef1576a6-fca5-412e-8c4b-f807ff890feb",
   "metadata": {},
   "source": [
    "#### Download Item List\n",
    "\n",
    "##### On this page you can download your current Vintage&Rare inventory.\n",
    "\n",
    "- The inventory is a CSV (Comma-Separated Values) file, containing the\n",
    "data of your products.\n",
    "- You can edit this file using a table calculus program like Microsoft Excel or\n",
    "OpenOffice Calc.\n",
    "- After the file is edited, you can update your Vintage&Rare inventory\n",
    "by uploading the CSV file, using the upload function in the 'Import Multiple Items'\n",
    "section.\n",
    "\n",
    "##### Notes for edit:\n",
    "- Don't alter the field 'product id' because this is used to\n",
    "track products on V&R database; for new products leave this field blank;\n",
    "- you can input your own product ID in the field 'external id';\n",
    "- deleted products (lines) will also be deleted from V&R website;\n",
    "- new products (lines) will be added to V&R website;\n",
    "- modified products will be updated on V&R website;\n",
    "- if a product was sold, don't delete it from the inventory, just set the field 'product sold' to '1' OR 'yes';\n",
    "- if you want to attach more pictures to the same product, insert the picture URLs\n",
    "into the field 'image url', separated by '|'; you may upload up to 20 images with a total\n",
    "size of 10 MB per product;\n",
    "- to attach Youtube videos to a product, insert the Youtube links into the field 'video url' separated by '|'; you may upload up to 4 videos per product."
   ]
  },
  {
   "cell_type": "code",
   "execution_count": null,
   "id": "b3bf484a-6dc7-47e4-813c-20c857560d92",
   "metadata": {},
   "outputs": [],
   "source": []
  }
 ],
 "metadata": {
  "kernelspec": {
   "display_name": "Python 3 (ipykernel)",
   "language": "python",
   "name": "python3"
  },
  "language_info": {
   "codemirror_mode": {
    "name": "ipython",
    "version": 3
   },
   "file_extension": ".py",
   "mimetype": "text/x-python",
   "name": "python",
   "nbconvert_exporter": "python",
   "pygments_lexer": "ipython3",
   "version": "3.12.4"
  }
 },
 "nbformat": 4,
 "nbformat_minor": 5
}
